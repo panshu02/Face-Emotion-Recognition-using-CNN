{
  "cells": [
    {
      "cell_type": "code",
      "execution_count": 1,
      "metadata": {
        "id": "DGWfXxgYhpgZ"
      },
      "outputs": [],
      "source": [
        "import tensorflow as tf"
      ]
    },
    {
      "cell_type": "code",
      "execution_count": 2,
      "metadata": {
        "colab": {
          "base_uri": "https://localhost:8080/",
          "height": 36
        },
        "id": "h7m1xCEkhr7H",
        "outputId": "e90a0e7d-47f0-4f42-8a44-0c8af125400f"
      },
      "outputs": [
        {
          "output_type": "execute_result",
          "data": {
            "text/plain": [
              "'2.8.2'"
            ],
            "application/vnd.google.colaboratory.intrinsic+json": {
              "type": "string"
            }
          },
          "metadata": {},
          "execution_count": 2
        }
      ],
      "source": [
        "tf.__version__"
      ]
    },
    {
      "cell_type": "code",
      "execution_count": 3,
      "metadata": {
        "colab": {
          "base_uri": "https://localhost:8080/"
        },
        "id": "TSV4_xw2hz-h",
        "outputId": "877fc342-63a9-46a6-b81f-1f36e52dd756"
      },
      "outputs": [
        {
          "output_type": "stream",
          "name": "stdout",
          "text": [
            "Looking in indexes: https://pypi.org/simple, https://us-python.pkg.dev/colab-wheels/public/simple/\n",
            "Requirement already satisfied: kaggle in /usr/local/lib/python3.7/dist-packages (1.5.12)\n",
            "Requirement already satisfied: certifi in /usr/local/lib/python3.7/dist-packages (from kaggle) (2022.6.15)\n",
            "Requirement already satisfied: urllib3 in /usr/local/lib/python3.7/dist-packages (from kaggle) (1.24.3)\n",
            "Requirement already satisfied: tqdm in /usr/local/lib/python3.7/dist-packages (from kaggle) (4.64.0)\n",
            "Requirement already satisfied: python-dateutil in /usr/local/lib/python3.7/dist-packages (from kaggle) (2.8.2)\n",
            "Requirement already satisfied: six>=1.10 in /usr/local/lib/python3.7/dist-packages (from kaggle) (1.15.0)\n",
            "Requirement already satisfied: python-slugify in /usr/local/lib/python3.7/dist-packages (from kaggle) (6.1.2)\n",
            "Requirement already satisfied: requests in /usr/local/lib/python3.7/dist-packages (from kaggle) (2.23.0)\n",
            "Requirement already satisfied: text-unidecode>=1.3 in /usr/local/lib/python3.7/dist-packages (from python-slugify->kaggle) (1.3)\n",
            "Requirement already satisfied: chardet<4,>=3.0.2 in /usr/local/lib/python3.7/dist-packages (from requests->kaggle) (3.0.4)\n",
            "Requirement already satisfied: idna<3,>=2.5 in /usr/local/lib/python3.7/dist-packages (from requests->kaggle) (2.10)\n"
          ]
        }
      ],
      "source": [
        "!pip install kaggle"
      ]
    },
    {
      "cell_type": "code",
      "execution_count": 4,
      "metadata": {
        "colab": {
          "base_uri": "https://localhost:8080/"
        },
        "id": "caJ9lwDCiNKJ",
        "outputId": "bf24a527-a363-4e26-c5c8-9cdf026525b8"
      },
      "outputs": [
        {
          "output_type": "stream",
          "name": "stdout",
          "text": [
            "mkdir: cannot create directory ‘/root/.kaggle’: File exists\n"
          ]
        }
      ],
      "source": [
        "!mkdir ~/.kaggle"
      ]
    },
    {
      "cell_type": "code",
      "execution_count": 5,
      "metadata": {
        "id": "xyoEmnCQijKC"
      },
      "outputs": [],
      "source": [
        "!cp kaggle.json ~/.kaggle/"
      ]
    },
    {
      "cell_type": "code",
      "execution_count": 6,
      "metadata": {
        "id": "qlh0U4u1i4kf"
      },
      "outputs": [],
      "source": [
        "!chmod 600 /root/.kaggle/kaggle.json"
      ]
    },
    {
      "cell_type": "code",
      "execution_count": 7,
      "metadata": {
        "colab": {
          "base_uri": "https://localhost:8080/"
        },
        "id": "jGlEdXwkhigh",
        "outputId": "e420dd84-f35d-478d-9aa0-cce7315ea79d"
      },
      "outputs": [
        {
          "output_type": "stream",
          "name": "stdout",
          "text": [
            "face-expression-recognition-dataset.zip: Skipping, found more recently modified local copy (use --force to force download)\n"
          ]
        }
      ],
      "source": [
        "!kaggle datasets download -d jonathanoheix/face-expression-recognition-dataset"
      ]
    },
    {
      "cell_type": "code",
      "execution_count": 8,
      "metadata": {
        "colab": {
          "base_uri": "https://localhost:8080/"
        },
        "id": "nkY6EFdfiwGd",
        "outputId": "255a2ddb-e4a6-4a74-a0b5-698ae491bf26"
      },
      "outputs": [
        {
          "output_type": "stream",
          "name": "stdout",
          "text": [
            "Archive:  /content/face-expression-recognition-dataset.zip\n",
            "replace images/images/train/angry/0.jpg? [y]es, [n]o, [A]ll, [N]one, [r]ename: "
          ]
        }
      ],
      "source": [
        "!unzip /content/face-expression-recognition-dataset.zip"
      ]
    },
    {
      "cell_type": "code",
      "execution_count": 1,
      "metadata": {
        "id": "sAdY53YokQfL"
      },
      "outputs": [],
      "source": [
        "from tensorflow.keras.preprocessing.image import ImageDataGenerator"
      ]
    },
    {
      "cell_type": "code",
      "execution_count": 2,
      "metadata": {
        "colab": {
          "base_uri": "https://localhost:8080/"
        },
        "id": "XxKYXx8GlHqo",
        "outputId": "b5b310fe-b5f3-4004-84e7-b3ecad59925a"
      },
      "outputs": [
        {
          "output_type": "stream",
          "name": "stdout",
          "text": [
            "Found 28821 images belonging to 7 classes.\n"
          ]
        }
      ],
      "source": [
        "train_datagen = ImageDataGenerator(shear_range = 0.2, zoom_range = 0.2, horizontal_flip = True, rescale = 1/255, dtype = 'float32')\n",
        "train_data = train_datagen.flow_from_directory('/content/images/train', target_size = (144, 144), batch_size = 64, class_mode = 'categorical')"
      ]
    },
    {
      "cell_type": "code",
      "execution_count": 3,
      "metadata": {
        "colab": {
          "base_uri": "https://localhost:8080/"
        },
        "id": "mrycKRxgmzQn",
        "outputId": "ce422d68-7bd1-4f77-a838-a516c1d3f767"
      },
      "outputs": [
        {
          "output_type": "stream",
          "name": "stdout",
          "text": [
            "Found 7066 images belonging to 7 classes.\n"
          ]
        }
      ],
      "source": [
        "test_datagen = ImageDataGenerator(rescale = 1/255, dtype = 'float32')\n",
        "test_data = test_datagen.flow_from_directory('/content/images/validation', target_size = (144, 144), batch_size = 32, class_mode = 'categorical')"
      ]
    },
    {
      "cell_type": "code",
      "execution_count": 4,
      "metadata": {
        "id": "DkTJH4cAqE5j"
      },
      "outputs": [],
      "source": [
        "import matplotlib.pyplot as plt"
      ]
    },
    {
      "cell_type": "code",
      "execution_count": 5,
      "metadata": {
        "colab": {
          "base_uri": "https://localhost:8080/",
          "height": 269
        },
        "id": "fXblpvWhqCP4",
        "outputId": "605c8083-35d1-4163-fb4b-e22902fd3c8d"
      },
      "outputs": [
        {
          "output_type": "display_data",
          "data": {
            "text/plain": [
              "<Figure size 432x288 with 1 Axes>"
            ],
            "image/png": "[encoded data removed]"
          },
          "metadata": {
            "needs_background": "light"
          }
        }
      ],
      "source": [
        "plt.imshow(train_data[0][0][0])\n",
        "plt.show()"
      ]
    },
    {
      "cell_type": "code",
      "execution_count": 6,
      "metadata": {
        "colab": {
          "base_uri": "https://localhost:8080/"
        },
        "id": "YJPiPZPhvBTv",
        "outputId": "6fb5282b-8073-4e23-962d-b44271c45437"
      },
      "outputs": [
        {
          "output_type": "execute_result",
          "data": {
            "text/plain": [
              "array([1., 0., 0., 0., 0., 0., 0.], dtype=float32)"
            ]
          },
          "metadata": {},
          "execution_count": 6
        }
      ],
      "source": [
        "train_data[0][1][0]"
      ]
    },
    {
      "cell_type": "code",
      "execution_count": 7,
      "metadata": {
        "id": "JI5Eyg6mnO1d"
      },
      "outputs": [],
      "source": [
        "from tensorflow.keras.models import Sequential\n",
        "from tensorflow.keras.layers import Conv2D\n",
        "from tensorflow.keras.layers import MaxPool2D\n",
        "from tensorflow.keras.layers import Flatten\n",
        "from tensorflow.keras.layers import Dense\n",
        "from tensorflow.keras.layers import Dropout"
      ]
    },
    {
      "cell_type": "code",
      "execution_count": 33,
      "metadata": {
        "id": "i8P9pXqDnnw9"
      },
      "outputs": [],
      "source": [
        "CNN = Sequential()\n",
        "CNN.add(Conv2D(filters = 64, kernel_size = 3, strides = 2, activation = 'relu', use_bias = True, padding = 'same', input_shape = [144, 144, 3]))\n",
        "CNN.add(MaxPool2D(pool_size = 2, strides = 2, padding = 'same'))\n",
        "CNN.add(Conv2D(filters = 56, kernel_size = 2, strides = 1, activation = 'relu', use_bias = True))\n",
        "CNN.add(MaxPool2D(pool_size = 2, strides = 2, padding = 'same'))\n",
        "CNN.add(Conv2D(filters = 16, kernel_size = 2, strides = 1, activation = 'relu', use_bias = True))\n",
        "CNN.add(MaxPool2D(pool_size = 2, strides = 2, padding = 'same'))\n",
        "CNN.add(Flatten())\n",
        "CNN.add(Dense(units = 321, activation = 'relu', use_bias = True))\n",
        "CNN.add(Dense(units = 144, activation = 'tanh', use_bias = True))\n",
        "CNN.add(Dense(units = 32, activation = 'relu'))\n",
        "CNN.add(Dense(units = 7, activation = 'softmax'))\n"
      ]
    },
    {
      "cell_type": "code",
      "execution_count": 34,
      "metadata": {
        "id": "GY2HvIhospVg"
      },
      "outputs": [],
      "source": [
        "from tensorflow.keras.losses import CategoricalCrossentropy\n",
        "cce = CategoricalCrossentropy(from_logits = False)"
      ]
    },
    {
      "cell_type": "code",
      "execution_count": 35,
      "metadata": {
        "id": "YIa9kvK9paGA"
      },
      "outputs": [],
      "source": [
        "CNN.compile(optimizer = 'adam', loss = cce, metrics = ['accuracy'])"
      ]
    },
    {
      "cell_type": "code",
      "execution_count": null,
      "metadata": {
        "colab": {
          "base_uri": "https://localhost:8080/"
        },
        "id": "z0JQjKJXpjki",
        "outputId": "03aa2820-1852-4c0a-ac53-aaca21240c42"
      },
      "outputs": [
        {
          "output_type": "stream",
          "name": "stdout",
          "text": [
            "Epoch 1/8\n",
            "163/451 [=========>....................] - ETA: 1:20 - loss: 1.8131 - accuracy: 0.2439"
          ]
        }
      ],
      "source": [
        "CNN.fit(x = train_data, validation_data = test_data, epochs = 8)"
      ]
    },
    {
      "cell_type": "code",
      "execution_count": null,
      "metadata": {
        "id": "YrhQFNeI8FnI"
      },
      "outputs": [],
      "source": [
        "pred_data = CNN.predict(test_data)"
      ]
    },
    {
      "cell_type": "code",
      "execution_count": null,
      "metadata": {
        "id": "HXR2mMvc8TW4"
      },
      "outputs": [],
      "source": [
        "import numpy as np\n",
        "np.shape(pred_data)"
      ]
    },
    {
      "cell_type": "code",
      "execution_count": null,
      "metadata": {
        "id": "MCe8Ci_d7jOw"
      },
      "outputs": [],
      "source": [
        "emot_dic = {0: 'angry', 1: 'disgust', 2: 'fear', 3: 'happy', 4: 'neutral', 5: 'sad', 6: 'surprise'}"
      ]
    },
    {
      "cell_type": "code",
      "execution_count": null,
      "metadata": {
        "id": "HMMzAV6N6zc-"
      },
      "outputs": [],
      "source": [
        "start_ind = 200\n",
        "test_batch_size = 32\n",
        "plt.figure(figsize = (18, 18))\n",
        "for i in range(25):\n",
        "  plt.subplot(5, 5, i+1)\n",
        "  plt.xticks([])\n",
        "  plt.yticks([])\n",
        "\n",
        "  pred = emot_dic[np.argmax(pred_data[i+start_ind])]\n",
        "  real = emot_dic[np.argmax(test_data[(i+start_ind)//test_batch_size][1][(i+start_ind)%test_batch_size])]\n",
        "\n",
        "  col = 'g'\n",
        "  if pred != real:\n",
        "    col = 'r'\n",
        "\n",
        "  plt.xlabel(\"Pred: {}, Real: {}\".format(pred, real), color = col)\n",
        "  plt.imshow(test_data[(i+start_ind)//test_batch_size][0][(i+start_ind)%test_batch_size])\n",
        "\n",
        "plt.show()"
      ]
    }
  ],
  "metadata": {
    "colab": {
      "collapsed_sections": [],
      "name": "Face Expression Recognition using CNN.ipynb",
      "provenance": []
    },
    "kernelspec": {
      "display_name": "Python 3",
      "name": "python3"
    },
    "language_info": {
      "name": "python"
    },
    "accelerator": "GPU",
    "gpuClass": "standard"
  },
  "nbformat": 4,
  "nbformat_minor": 0
}